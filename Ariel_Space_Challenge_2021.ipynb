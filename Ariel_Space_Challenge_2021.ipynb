{
  "nbformat": 4,
  "nbformat_minor": 0,
  "metadata": {
    "colab": {
      "name": "Ariel_Space_Challenge_2021.ipynb",
      "provenance": [],
      "collapsed_sections": [],
      "authorship_tag": "ABX9TyPBlBhkYiU2i/RAey0T3vrt",
      "include_colab_link": true
    },
    "kernelspec": {
      "name": "python3",
      "display_name": "Python 3"
    },
    "language_info": {
      "name": "python"
    }
  },
  "cells": [
    {
      "cell_type": "markdown",
      "metadata": {
        "id": "view-in-github",
        "colab_type": "text"
      },
      "source": [
        "<a href=\"https://colab.research.google.com/github/Wabinab/ariel_ml_2021/blob/main/Ariel_Space_Challenge_2021.ipynb\" target=\"_parent\"><img src=\"https://colab.research.google.com/assets/colab-badge.svg\" alt=\"Open In Colab\"/></a>"
      ]
    },
    {
      "cell_type": "markdown",
      "metadata": {
        "id": "lO03SMrAu_H2"
      },
      "source": [
        "# Ariel Mission Space Challenges\n",
        "By J.W. Chow and R. Cheshire. "
      ]
    },
    {
      "cell_type": "code",
      "metadata": {
        "id": "tyyJ9MuMu5SZ"
      },
      "source": [
        "# Code to authorize access to google cloud bucket and mount to drive.  \n",
        "from google.colab import auth\n",
        "auth.authenticate_user()"
      ],
      "execution_count": 2,
      "outputs": []
    },
    {
      "cell_type": "code",
      "metadata": {
        "colab": {
          "base_uri": "https://localhost:8080/"
        },
        "id": "-5NhtDTPvICj",
        "outputId": "018ad965-c70c-4183-b63d-b1ea0c9aea82"
      },
      "source": [
        "# NOTE: Please press enter once, then move cursor from end of line to somewhere middle, \n",
        "# and press enter again, for authentication successfully done. \n",
        "!gcloud auth login"
      ],
      "execution_count": 3,
      "outputs": [
        {
          "output_type": "stream",
          "text": [
            "Go to the following link in your browser:\n",
            "\n",
            "    https://accounts.google.com/o/oauth2/auth?response_type=code&client_id=32555940559.apps.googleusercontent.com&redirect_uri=urn%3Aietf%3Awg%3Aoauth%3A2.0%3Aoob&scope=openid+https%3A%2F%2Fwww.googleapis.com%2Fauth%2Fuserinfo.email+https%3A%2F%2Fwww.googleapis.com%2Fauth%2Fcloud-platform+https%3A%2F%2Fwww.googleapis.com%2Fauth%2Fappengine.admin+https%3A%2F%2Fwww.googleapis.com%2Fauth%2Fcompute+https%3A%2F%2Fwww.googleapis.com%2Fauth%2Faccounts.reauth&state=lhEHFJ6KMdc2HFUfq7OwF8KaPTtnLb&prompt=consent&access_type=offline&code_challenge=P52HV6A-AH12N3eA8PT3_JD56qpDi_BLXedLdKjskXE&code_challenge_method=S256\n",
            "\n",
            "Enter verification code: 4/1AY0e-g7EUGPNmTQL-MI8Swf-0Peysw8viAgRlrYr00V4hD6e9EomBO3R6sE\n",
            "\n",
            "You are now logged in as [chowjunwei37@gmail.com].\n",
            "Your current project is [None].  You can change this setting by running:\n",
            "  $ gcloud config set project PROJECT_ID\n"
          ],
          "name": "stdout"
        }
      ]
    },
    {
      "cell_type": "code",
      "metadata": {
        "colab": {
          "base_uri": "https://localhost:8080/"
        },
        "id": "DS-3I9epve6U",
        "outputId": "0e49da45-f48b-4bb2-d304-85c093955be8"
      },
      "source": [
        "!gcloud config set project sunlit-analyst-309609"
      ],
      "execution_count": 5,
      "outputs": [
        {
          "output_type": "stream",
          "text": [
            "Updated property [core/project].\n",
            "Updated property [core/project].\n"
          ],
          "name": "stdout"
        }
      ]
    },
    {
      "cell_type": "markdown",
      "metadata": {
        "id": "-nviu80wwTeF"
      },
      "source": [
        "**Note: There is no confirmation that mounting locally, if modifications made, will modify the file in the bucket.**"
      ]
    },
    {
      "cell_type": "code",
      "metadata": {
        "colab": {
          "base_uri": "https://localhost:8080/"
        },
        "id": "cz3a6s1ZwMUs",
        "outputId": "d2a4bcc6-7f13-40e0-b26d-8578d66c96d1"
      },
      "source": [
        "# Check where google colab is running so to see if we can prevent network egress charges\n",
        "# Though I don't think we can stop this charge unless we create buckets in multiple locations\n",
        "# and mount the correct one. \n",
        "\n",
        "# The shared bucket I created is not located in whole US but only South Carolina and Iowa\n",
        "# because I'm stupid thinking it might save money that way? And I am not sure how to change\n",
        "# it except for creating a new bucket and transfer the whole bucket from one to another. \n",
        "!curl ipinfo.io"
      ],
      "execution_count": 6,
      "outputs": [
        {
          "output_type": "stream",
          "text": [
            "{\n",
            "  \"ip\": \"35.190.150.128\",\n",
            "  \"hostname\": \"128.150.190.35.bc.googleusercontent.com\",\n",
            "  \"city\": \"North Charleston\",\n",
            "  \"region\": \"South Carolina\",\n",
            "  \"country\": \"US\",\n",
            "  \"loc\": \"32.8546,-79.9748\",\n",
            "  \"org\": \"AS15169 Google LLC\",\n",
            "  \"postal\": \"29415\",\n",
            "  \"timezone\": \"America/New_York\",\n",
            "  \"readme\": \"https://ipinfo.io/missingauth\"\n",
            "}"
          ],
          "name": "stdout"
        }
      ]
    },
    {
      "cell_type": "code",
      "metadata": {
        "colab": {
          "base_uri": "https://localhost:8080/"
        },
        "id": "O8BHZHo8wvco",
        "outputId": "0c91b386-ae25-4ed7-e0d6-c10577f06d0f"
      },
      "source": [
        "!echo \"deb http://packages.cloud.google.com/apt gcsfuse-`lsb_release -c -s` main\" | sudo tee /etc/apt/sources.list.d/gcsfuse.list\n",
        "!curl https://packages.cloud.google.com/apt/doc/apt-key.gpg | sudo apt-key add -\n",
        "!sudo apt-get -y -q update\n",
        "!sudo apt-get -y -q install gcsfuse\n",
        "!mkdir -p data\n",
        "!gcsfuse --implicit-dirs --limit-bytes-per-sec -1 --limit-ops-per-sec -1 arielml_shared data"
      ],
      "execution_count": 7,
      "outputs": [
        {
          "output_type": "stream",
          "text": [
            "deb http://packages.cloud.google.com/apt gcsfuse-bionic main\n",
            "  % Total    % Received % Xferd  Average Speed   Time    Time     Time  Current\n",
            "                                 Dload  Upload   Total   Spent    Left  Speed\n",
            "100  2537  100  2537    0     0  90607      0 --:--:-- --:--:-- --:--:-- 90607\n",
            "OK\n",
            "Ign:1 https://developer.download.nvidia.com/compute/cuda/repos/ubuntu1804/x86_64  InRelease\n",
            "Get:2 https://cloud.r-project.org/bin/linux/ubuntu bionic-cran40/ InRelease [3,626 B]\n",
            "Get:3 http://security.ubuntu.com/ubuntu bionic-security InRelease [88.7 kB]\n",
            "Ign:4 https://developer.download.nvidia.com/compute/machine-learning/repos/ubuntu1804/x86_64  InRelease\n",
            "Hit:5 https://developer.download.nvidia.com/compute/cuda/repos/ubuntu1804/x86_64  Release\n",
            "Get:6 http://ppa.launchpad.net/c2d4u.team/c2d4u4.0+/ubuntu bionic InRelease [15.9 kB]\n",
            "Hit:7 http://archive.ubuntu.com/ubuntu bionic InRelease\n",
            "Hit:8 https://developer.download.nvidia.com/compute/machine-learning/repos/ubuntu1804/x86_64  Release\n",
            "Get:9 http://packages.cloud.google.com/apt gcsfuse-bionic InRelease [5,394 B]\n",
            "Get:10 https://cloud.r-project.org/bin/linux/ubuntu bionic-cran40/ Packages [52.7 kB]\n",
            "Get:11 http://archive.ubuntu.com/ubuntu bionic-updates InRelease [88.7 kB]\n",
            "Hit:13 http://ppa.launchpad.net/cran/libgit2/ubuntu bionic InRelease\n",
            "Get:15 http://archive.ubuntu.com/ubuntu bionic-backports InRelease [74.6 kB]\n",
            "Get:16 http://ppa.launchpad.net/deadsnakes/ppa/ubuntu bionic InRelease [15.9 kB]\n",
            "Get:17 http://packages.cloud.google.com/apt gcsfuse-bionic/main amd64 Packages [2,577 B]\n",
            "Hit:18 http://ppa.launchpad.net/graphics-drivers/ppa/ubuntu bionic InRelease\n",
            "Get:19 http://security.ubuntu.com/ubuntu bionic-security/universe amd64 Packages [1,402 kB]\n",
            "Get:20 http://ppa.launchpad.net/c2d4u.team/c2d4u4.0+/ubuntu bionic/main Sources [1,749 kB]\n",
            "Get:21 http://archive.ubuntu.com/ubuntu bionic-updates/universe amd64 Packages [2,170 kB]\n",
            "Get:22 http://security.ubuntu.com/ubuntu bionic-security/main amd64 Packages [2,045 kB]\n",
            "Get:23 http://archive.ubuntu.com/ubuntu bionic-updates/main amd64 Packages [2,475 kB]\n",
            "Get:24 http://ppa.launchpad.net/c2d4u.team/c2d4u4.0+/ubuntu bionic/main amd64 Packages [895 kB]\n",
            "Get:25 http://ppa.launchpad.net/deadsnakes/ppa/ubuntu bionic/main amd64 Packages [39.5 kB]\n",
            "Fetched 11.1 MB in 3s (4,122 kB/s)\n",
            "Reading package lists...\n",
            "Reading package lists...\n",
            "Building dependency tree...\n",
            "Reading state information...\n",
            "The following NEW packages will be installed:\n",
            "  gcsfuse\n",
            "0 upgraded, 1 newly installed, 0 to remove and 51 not upgraded.\n",
            "Need to get 10.6 MB of archives.\n",
            "After this operation, 22.7 MB of additional disk space will be used.\n",
            "Get:1 http://packages.cloud.google.com/apt gcsfuse-bionic/main amd64 gcsfuse amd64 0.34.1 [10.6 MB]\n",
            "Fetched 10.6 MB in 0s (38.3 MB/s)\n",
            "debconf: unable to initialize frontend: Dialog\n",
            "debconf: (No usable dialog-like program is installed, so the dialog based frontend cannot be used. at /usr/share/perl5/Debconf/FrontEnd/Dialog.pm line 76, <> line 1.)\n",
            "debconf: falling back to frontend: Readline\n",
            "debconf: unable to initialize frontend: Readline\n",
            "debconf: (This frontend requires a controlling tty.)\n",
            "debconf: falling back to frontend: Teletype\n",
            "dpkg-preconfigure: unable to re-open stdin: \n",
            "Selecting previously unselected package gcsfuse.\n",
            "(Reading database ... 160980 files and directories currently installed.)\n",
            "Preparing to unpack .../gcsfuse_0.34.1_amd64.deb ...\n",
            "Unpacking gcsfuse (0.34.1) ...\n",
            "Setting up gcsfuse (0.34.1) ...\n",
            "2021/04/04 02:44:45.067103 Using mount point: /content/data\n",
            "2021/04/04 02:44:45.075611 Opening GCS connection...\n",
            "2021/04/04 02:44:51.553109 Mounting file system \"arielml_shared\"...\n",
            "2021/04/04 02:44:51.571154 File system has been successfully mounted.\n"
          ],
          "name": "stdout"
        }
      ]
    },
    {
      "cell_type": "code",
      "metadata": {
        "id": "wwEMZO5-xIt0"
      },
      "source": [
        "import os, os.path\n",
        "\n",
        "# Assert correct number of files in case of modifications. \n",
        "\n",
        "assert len(os.listdir(\"./data/test_set/noisy_test\")) == 53900\n",
        "assert len(os.listdir(\"./data/training_set/noisy_train\")) == 125600\n",
        "assert len(os.listdir(\"./data/training_set/params_train\")) == 125600"
      ],
      "execution_count": 12,
      "outputs": []
    },
    {
      "cell_type": "code",
      "metadata": {
        "id": "9BSMZJu7yBgl"
      },
      "source": [
        ""
      ],
      "execution_count": null,
      "outputs": []
    }
  ]
}