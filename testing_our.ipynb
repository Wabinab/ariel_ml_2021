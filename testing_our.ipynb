{
 "cells": [
  {
   "cell_type": "code",
   "execution_count": 5,
   "metadata": {},
   "outputs": [],
   "source": [
    "import numpy as np\n",
    "import os\n",
    "import pandas as pd\n",
    "import pathlib\n",
    "import itertools\n",
    "\n",
    "# project_dir = pathlib.Path(__file__).parent.absolute()\n",
    "\n",
    "# paths to data dirs\n",
    "lc_train_path = \"/home/dsvm113/IdeaProjects/workspace/data_1/training_set/noisy_train/\"\n",
    "params_train_path = \"/home/dsvm113/IdeaProjects/workspace/data_1/training_set/params_train/\""
   ]
  },
  {
   "cell_type": "code",
   "execution_count": 6,
   "metadata": {},
   "outputs": [],
   "source": [
    "item_lc_path = lc_train_path + \"0100_01_01.txt\""
   ]
  },
  {
   "cell_type": "code",
   "execution_count": 7,
   "metadata": {},
   "outputs": [],
   "source": [
    "with open(item_lc_path, \"r\") as f:\n",
    "    temp_storage_str = list(itertools.islice(f, 6))\n",
    "\n",
    "temp_storage_float = []\n",
    "\n",
    "for string in temp_storage_str:\n",
    "    # Separate the digits and the non-digits.\n",
    "    new_str = [\"\".join(x) for _, x in itertools.groupby(string, key=str.isdigit)]\n",
    "\n",
    "    # Only new_str[0] is the one we want to omit.\n",
    "    # We want to join back into a single string because \".\" previously is classifed\n",
    "    # as non-digit. \n",
    "    new_str = \"\".join(new_str[1:])  \n",
    "\n",
    "    # Convert to float. \n",
    "    temp_storage_float.append(float(new_str))"
   ]
  },
  {
   "cell_type": "code",
   "execution_count": 8,
   "metadata": {},
   "outputs": [
    {
     "data": {
      "text/plain": "[4880.0, 4.5, 0.73, 0.77, 9.688, 6.67202]"
     },
     "execution_count": 8,
     "metadata": {},
     "output_type": "execute_result"
    }
   ],
   "source": [
    "temp_storage_float"
   ]
  },
  {
   "cell_type": "code",
   "execution_count": 9,
   "metadata": {},
   "outputs": [
    {
     "data": {
      "text/plain": "[4880.0, 0.73, 0.77, 9.688, 6.67202]"
     },
     "execution_count": 9,
     "metadata": {},
     "output_type": "execute_result"
    }
   ],
   "source": [
    "temp_storage_float.pop(-5)\n",
    "temp_storage_float"
   ]
  },
  {
   "cell_type": "code",
   "execution_count": 10,
   "metadata": {},
   "outputs": [
    {
     "data": {
      "text/plain": "[4880.0, 0, 0.77, 9.688, 6.67202]"
     },
     "execution_count": 10,
     "metadata": {},
     "output_type": "execute_result"
    }
   ],
   "source": [
    "if temp_storage_float[-4] > 0.5:\n",
    "    temp_storage_float[-4] = 0\n",
    "\n",
    "temp_storage_float"
   ]
  },
  {
   "cell_type": "code",
   "execution_count": 11,
   "metadata": {},
   "outputs": [
    {
     "data": {
      "text/plain": "array([4.88000e+03, 0.00000e+00, 7.70000e-01, 9.68800e+00, 6.67202e+00])"
     },
     "execution_count": 11,
     "metadata": {},
     "output_type": "execute_result"
    }
   ],
   "source": [
    "temp_numpy = np.array(temp_storage_float)\n",
    "temp_numpy"
   ]
  },
  {
   "cell_type": "code",
   "execution_count": 13,
   "metadata": {},
   "outputs": [
    {
     "data": {
      "text/plain": "array([4.88000e+03, 0.00000e+00, 7.70000e-01, 9.68800e+00, 6.67202e+00])"
     },
     "execution_count": 13,
     "metadata": {},
     "output_type": "execute_result"
    }
   ],
   "source": [
    "np.where(temp_numpy[-2] > 10, 0, temp_numpy)"
   ]
  },
  {
   "cell_type": "code",
   "execution_count": 1,
   "metadata": {},
   "outputs": [
    {
     "data": {
      "text/plain": "BaselineConv(\n  (layer1): Conv1d(5561, 1024, kernel_size=(5,), stride=(2,))\n  (act1): ReLU()\n  (layer2): Conv1d(1024, 55, kernel_size=(1,), stride=(1,))\n)"
     },
     "execution_count": 1,
     "metadata": {},
     "output_type": "execute_result"
    }
   ],
   "source": [
    "# General imports\n",
    "import numpy as np\n",
    "import matplotlib.pylab as plt\n",
    "import torch\n",
    "    \n",
    "from pathlib import Path\n",
    "\n",
    "from utils import BaselineConv\n",
    "\n",
    "baseline = BaselineConv().double().to(\"cpu\")\n",
    "baseline"
   ]
  },
  {
   "cell_type": "code",
   "execution_count": null,
   "metadata": {},
   "outputs": [],
   "source": []
  }
 ],
 "metadata": {
  "kernelspec": {
   "display_name": "Python 3.7.9 64-bit ('py37_pytorch': conda)",
   "name": "python379jvsc74a57bd0b5079757533a07d523b22964b5bda6a42550d36e9c94eb5f662e38c34376cbf3"
  },
  "language_info": {
   "codemirror_mode": {
    "name": "ipython",
    "version": 3
   },
   "file_extension": ".py",
   "mimetype": "text/x-python",
   "name": "python",
   "nbconvert_exporter": "python",
   "pygments_lexer": "ipython3",
   "version": "3.7.9"
  },
  "orig_nbformat": 3
 },
 "nbformat": 4,
 "nbformat_minor": 2
}