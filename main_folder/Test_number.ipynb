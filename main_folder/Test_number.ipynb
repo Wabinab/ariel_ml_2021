{
 "cells": [
  {
   "cell_type": "code",
   "execution_count": 1,
   "id": "147beac9-cc48-4e7f-bc69-5103786842c7",
   "metadata": {},
   "outputs": [
    {
     "output_type": "execute_result",
     "data": {
      "text/plain": [
       "'/workspace/ariel_ml_2021/main_folder'"
      ]
     },
     "metadata": {},
     "execution_count": 1
    }
   ],
   "source": [
    "import os\n",
    "# os.chdir(\"/home/chowjunwei37/\")\n",
    "os.getcwd()"
   ]
  },
  {
   "cell_type": "code",
   "execution_count": 4,
   "id": "c74da621-d05c-479f-8944-a17c50d439be",
   "metadata": {},
   "outputs": [],
   "source": [
    "import numpy as np\n",
    "import glob\n",
    "import tensorflow as tf"
   ]
  },
  {
   "cell_type": "code",
   "execution_count": 3,
   "id": "dff74a76-a74b-42b1-9bf7-a624ebba4890",
   "metadata": {},
   "outputs": [],
   "source": [
    "def update_state(y_true, y_pred, sample_weight=None):  # score()\n",
    "        \"\"\"\n",
    "        Return the unweighted score related to the challenge. \n",
    "        Taken from https://github.com/ucl-exoplanets/ML-challenge-baseline/blob/main/utils.py\n",
    "\n",
    "        :param y_true: (float) The true label output. \n",
    "        :param y_pred: (float) The predicted output. \n",
    "        \"\"\"\n",
    "\n",
    "        # y_pred = tf.reshape(tf.argmax(y_pred, axis=1), shape=(-1, 1))\n",
    "        # values = tf.cast(y_true, \"int32\") == tf.cast(y_pred, \"int32\")\n",
    "        # values = tf.cast(values, \"float32\")\n",
    "\n",
    "        y_true = tf.cast(y_true, \"float32\")\n",
    "        y_pred = tf.cast(y_pred, \"float32\")\n",
    "\n",
    "        if sample_weight is not None:\n",
    "            sample_weight = tf.cast(sample_weight, \"float32\")\n",
    "        else:\n",
    "            sample_weight = tf.ones_like(y_true, dtype=\"float32\")\n",
    "        \n",
    "        new_weight = 1e4 - (tf.reduce_sum(2 * (sample_weight * y_true * tf.math.abs(y_pred - y_true)), axis=None) / (tf.reduce_sum(sample_weight, axis=None)) * 1e6)\n",
    "#         new_weight = tf.reduce_mean(sample_weight * y_true * tf.math.abs(y_pred - y_true))\n",
    "        \n",
    "#         print(\"Difference: \", np.array(new_weight))\n",
    "        \n",
    "        return new_weight"
   ]
  },
  {
   "cell_type": "code",
   "execution_count": 6,
   "id": "30da1483-5358-4a3d-a692-e6201c25637a",
   "metadata": {},
   "outputs": [
    {
     "output_type": "execute_result",
     "data": {
      "text/plain": [
       "['baseline_evaluation_2021-06-03.txt',\n",
       " 'baseline_evaluation_2021-06-09_8.txt',\n",
       " 'baseline_evaluation_2021-06-09.txt',\n",
       " 'baseline_evaluation_2021-06-04.txt',\n",
       " 'baseline_evaluation_2021-06-09_9.txt',\n",
       " 'baseline_evaluation_2021-06-14_10_5.txt',\n",
       " 'baseline_evaluation_2021-06-02.txt']"
      ]
     },
     "metadata": {},
     "execution_count": 6
    }
   ],
   "source": [
    "files = glob.glob(\"baseline_*.txt\")\n",
    "files"
   ]
  },
  {
   "cell_type": "code",
   "execution_count": 7,
   "id": "88a7572a-1e80-4a31-bad7-e98b983fae98",
   "metadata": {},
   "outputs": [
    {
     "output_type": "execute_result",
     "data": {
      "text/plain": [
       "7"
      ]
     },
     "metadata": {},
     "execution_count": 7
    }
   ],
   "source": [
    "our_avg = np.loadtxt(\"avg_our_best_results.txt\")\n",
    "\n",
    "others = [np.loadtxt(file) for file in files]\n",
    "len(others)"
   ]
  },
  {
   "cell_type": "code",
   "execution_count": 8,
   "metadata": {},
   "outputs": [
    {
     "output_type": "execute_result",
     "data": {
      "text/plain": [
       "[<tf.Tensor: shape=(), dtype=float32, numpy=9632.944>,\n",
       " <tf.Tensor: shape=(), dtype=float32, numpy=9719.851>,\n",
       " <tf.Tensor: shape=(), dtype=float32, numpy=9711.095>,\n",
       " <tf.Tensor: shape=(), dtype=float32, numpy=9742.823>,\n",
       " <tf.Tensor: shape=(), dtype=float32, numpy=9650.664>,\n",
       " <tf.Tensor: shape=(), dtype=float32, numpy=9751.609>,\n",
       " <tf.Tensor: shape=(), dtype=float32, numpy=9751.516>]"
      ]
     },
     "metadata": {},
     "execution_count": 8
    }
   ],
   "source": [
    "[update_state(our_avg, other) for other in others]"
   ]
  },
  {
   "cell_type": "code",
   "execution_count": null,
   "metadata": {},
   "outputs": [],
   "source": []
  }
 ],
 "metadata": {
  "kernelspec": {
   "display_name": "Python 3",
   "language": "python",
   "name": "python3"
  },
  "language_info": {
   "codemirror_mode": {
    "name": "ipython",
    "version": 3
   },
   "file_extension": ".py",
   "mimetype": "text/x-python",
   "name": "python",
   "nbconvert_exporter": "python",
   "pygments_lexer": "ipython3",
   "version": "3.8.10-final"
  }
 },
 "nbformat": 4,
 "nbformat_minor": 5
}