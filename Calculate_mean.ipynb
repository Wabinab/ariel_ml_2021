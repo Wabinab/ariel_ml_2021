{
 "cells": [
  {
   "cell_type": "markdown",
   "id": "4a6c7c2a-f621-4c0a-af72-5c554f9433f8",
   "metadata": {},
   "source": [
    "# Calculate Mean\n",
    "\n",
    "Note that the mean, standard deviation, and max of a value is calculated in the defined order, that is, we first have 300 of wavelength 0, then 300 of wavelength 1, etc, all squashed into 1D ahead of time (just like `np.flatten` does, **unless `np.flatten` do something out of what I am expecting?** And we are expecting that with `np.append`, we will get the flatten on the first array first, then append whatever at the back. This is the order of how the file is defined. "
   ]
  },
  {
   "cell_type": "code",
   "execution_count": 6,
   "id": "31a0ff08-d5de-4877-a1b3-b272df6dd735",
   "metadata": {},
   "outputs": [],
   "source": [
    "storage_mean = \"./mean.txt\"\n",
    "storage_std = \"./std.txt\"\n",
    "storage_mod = \"./mod_abs.txt\""
   ]
  },
  {
   "cell_type": "code",
   "execution_count": 2,
   "id": "e058b50c-79f3-43c7-9b80-4e265587f7dd",
   "metadata": {},
   "outputs": [
    {
     "name": "stdout",
     "output_type": "stream",
     "text": [
      "env: GCLOUD_PROJECT=sunlit-analyst-309609\n"
     ]
    }
   ],
   "source": [
    "PROJECT_ID = \"sunlit-analyst-309609\"\n",
    "%env GCLOUD_PROJECT=$PROJECT_ID\n",
    "%load_ext google.cloud.bigquery"
   ]
  },
  {
   "cell_type": "code",
   "execution_count": 5,
   "id": "47986261-e3b3-4cf5-b80e-c35268957cb5",
   "metadata": {},
   "outputs": [],
   "source": [
    "from __future__ import absolute_import, division, print_function, unicode_literals\n",
    "import tempfile\n",
    "\n",
    "import numpy as np\n",
    "import pandas as pd\n",
    "import tensorflow as tf\n",
    "from tqdm import tqdm\n",
    "\n",
    "from google.cloud import bigquery\n",
    "LOCATION = \"us\""
   ]
  },
  {
   "cell_type": "code",
   "execution_count": 4,
   "id": "7d65a52f-6b96-4278-a24c-abb7b9ab16df",
   "metadata": {},
   "outputs": [],
   "source": [
    "from google.cloud import bigquery\n",
    "from google.cloud import bigquery_storage\n",
    "\n",
    "bqclient = bigquery.Client()\n",
    "bqstorageclient = bigquery_storage.BigQueryReadClient()"
   ]
  },
  {
   "cell_type": "code",
   "execution_count": 13,
   "id": "833b4cef-5a64-4a5f-babf-dca9a248c24b",
   "metadata": {},
   "outputs": [
    {
     "name": "stderr",
     "output_type": "stream",
     "text": [
      "100%|██████████| 55/55 [58:18<00:00, 63.61s/it]\n"
     ]
    }
   ],
   "source": [
    "required_test_df = pd.DataFrame()\n",
    "\n",
    "for table_number in tqdm(range(55)):\n",
    "    query_string = f\"\"\"\n",
    "    SELECT * EXCEPT (AAAA, BB, CC, label)\n",
    "    FROM `sunlit-analyst-309609.training_set.train_table_{table_number}`\n",
    "    \"\"\"\n",
    "    \n",
    "    df = (\n",
    "        bqclient.query(query_string)\n",
    "        .result()\n",
    "        .to_dataframe(bqstorage_client=bqstorageclient)\n",
    "    )\n",
    "    \n",
    "    # Metrics to calculate\n",
    "    mod = abs(df).max()\n",
    "    train_mean = df.mean()\n",
    "    train_std = df.std()\n",
    "    \n",
    "    train_mean.to_csv(storage_mean, header=None, sep=\",\", mode=\"a\", index=False)\n",
    "    train_std.to_csv(storage_std, header=None, sep=\",\", mode=\"a\", index=False)\n",
    "    mod.to_csv(storage_mod, header=None, sep=\",\", mode=\"a\", index=False)"
   ]
  },
  {
   "cell_type": "code",
   "execution_count": 14,
   "id": "341cd6da-db21-42c4-9e61-75d9baa4013b",
   "metadata": {},
   "outputs": [],
   "source": [
    "assert np.loadtxt(storage_mean, delimiter=\",\").shape == (16500,)\n",
    "assert np.loadtxt(storage_std, delimiter=\",\").shape == (16500,)\n",
    "assert np.loadtxt(storage_mod, delimiter=\",\").shape == (16500,)"
   ]
  },
  {
   "cell_type": "code",
   "execution_count": 15,
   "id": "211169ef-9e81-455b-8a31-34daf8216d13",
   "metadata": {},
   "outputs": [],
   "source": [
    "query_string = f\"\"\"\n",
    "    SELECT * EXCEPT (AAAA)\n",
    "    FROM `sunlit-analyst-309609.training_set.noisy_train_extra_params`\n",
    "    \"\"\"\n",
    "\n",
    "df = (\n",
    "    bqclient.query(query_string)\n",
    "    .result()\n",
    "    .to_dataframe(bqstorage_client=bqstorageclient)\n",
    ")\n",
    "\n",
    "mod = abs(df).max()\n",
    "train_mean = df.mean()\n",
    "train_std = df.std()\n",
    "\n",
    "train_mean.to_csv(storage_mean, header=None, sep=\",\", mode=\"a\", index=False)\n",
    "train_std.to_csv(storage_std, header=None, sep=\",\", mode=\"a\", index=False)\n",
    "mod.to_csv(storage_mod, header=None, sep=\",\", mode=\"a\", index=False)"
   ]
  },
  {
   "cell_type": "code",
   "execution_count": 16,
   "id": "b14300c1-341c-4d7b-803c-472fcb3d0ad4",
   "metadata": {},
   "outputs": [],
   "source": [
    "assert np.loadtxt(storage_mean, delimiter=\",\").shape == (16506,)\n",
    "assert np.loadtxt(storage_std, delimiter=\",\").shape == (16506,)\n",
    "assert np.loadtxt(storage_mod, delimiter=\",\").shape == (16506,)"
   ]
  },
  {
   "cell_type": "code",
   "execution_count": null,
   "id": "a73c741b-ca83-46ee-bc6d-48c178d6246f",
   "metadata": {},
   "outputs": [],
   "source": []
  }
 ],
 "metadata": {
  "kernelspec": {
   "display_name": "Python 3",
   "language": "python",
   "name": "python3"
  },
  "language_info": {
   "codemirror_mode": {
    "name": "ipython",
    "version": 3
   },
   "file_extension": ".py",
   "mimetype": "text/x-python",
   "name": "python",
   "nbconvert_exporter": "python",
   "pygments_lexer": "ipython3",
   "version": "3.7.3"
  }
 },
 "nbformat": 4,
 "nbformat_minor": 5
}
